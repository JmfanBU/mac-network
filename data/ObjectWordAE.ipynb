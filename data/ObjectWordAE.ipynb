{
 "cells": [
  {
   "cell_type": "code",
   "execution_count": 1,
   "metadata": {},
   "outputs": [],
   "source": [
    "import json\n",
    "import igraph\n",
    "import numpy as np"
   ]
  },
  {
   "cell_type": "code",
   "execution_count": 2,
   "metadata": {},
   "outputs": [],
   "source": [
    "SG_train = json.load(open('train_sceneGraphs.json', 'r'))\n",
    "SG_test = json.load(open('val_sceneGraphs.json', 'r'))"
   ]
  },
  {
   "cell_type": "code",
   "execution_count": 3,
   "metadata": {},
   "outputs": [],
   "source": [
    "train_id = list(SG_train.keys())\n",
    "test_id = list(SG_test.keys())"
   ]
  },
  {
   "cell_type": "code",
   "execution_count": 4,
   "metadata": {},
   "outputs": [],
   "source": [
    "width, height = 0, 0\n",
    "relations = []\n",
    "objects = []\n",
    "for idxImage in train_id:\n",
    "    width = max(width, SG_train[idxImage]['width'])\n",
    "    height = max(height, SG_train[idxImage]['height'])\n",
    "    objects_list = list(SG_train[idxImage]['objects'].keys())\n",
    "    for idxObj in objects_list:\n",
    "        objects.append(SG_train[idxImage]['objects'][idxObj]['name'])\n",
    "        for Relation in SG_train[idxImage]['objects'][idxObj]['relations']:\n",
    "            relations.append(Relation['name'])"
   ]
  },
  {
   "cell_type": "code",
   "execution_count": 5,
   "metadata": {},
   "outputs": [],
   "source": [
    "relations = list(dict.fromkeys(relations))\n",
    "objects = list(dict.fromkeys(objects))"
   ]
  },
  {
   "cell_type": "code",
   "execution_count": 6,
   "metadata": {},
   "outputs": [
    {
     "data": {
      "text/plain": [
       "1702"
      ]
     },
     "execution_count": 6,
     "metadata": {},
     "output_type": "execute_result"
    }
   ],
   "source": [
    "len(objects)"
   ]
  },
  {
   "cell_type": "code",
   "execution_count": 7,
   "metadata": {},
   "outputs": [
    {
     "data": {
      "text/plain": [
       "'printers'"
      ]
     },
     "execution_count": 7,
     "metadata": {},
     "output_type": "execute_result"
    }
   ],
   "source": [
    "objects[-1]"
   ]
  },
  {
   "cell_type": "code",
   "execution_count": 8,
   "metadata": {},
   "outputs": [
    {
     "data": {
      "text/plain": [
       "310"
      ]
     },
     "execution_count": 8,
     "metadata": {},
     "output_type": "execute_result"
    }
   ],
   "source": [
    "len(relations)"
   ]
  },
  {
   "cell_type": "code",
   "execution_count": 9,
   "metadata": {},
   "outputs": [],
   "source": [
    "width_test, height_test = 0, 0\n",
    "relations_test = []\n",
    "objects_test = []\n",
    "for idxImage in test_id:\n",
    "    width_test = max(width_test, SG_test[idxImage]['width'])\n",
    "    height_test = max(height_test, SG_test[idxImage]['height'])\n",
    "    objects_list = list(SG_test[idxImage]['objects'].keys())\n",
    "    for idxObj in objects_list:\n",
    "        objects_test.append(SG_test[idxImage]['objects'][idxObj]['name'])\n",
    "        for Relation in SG_test[idxImage]['objects'][idxObj]['relations']:\n",
    "            relations_test.append(Relation['name'])"
   ]
  },
  {
   "cell_type": "code",
   "execution_count": 10,
   "metadata": {},
   "outputs": [
    {
     "data": {
      "text/plain": [
       "1280"
      ]
     },
     "execution_count": 10,
     "metadata": {},
     "output_type": "execute_result"
    }
   ],
   "source": [
    "width_test"
   ]
  },
  {
   "cell_type": "code",
   "execution_count": 11,
   "metadata": {},
   "outputs": [
    {
     "data": {
      "text/plain": [
       "1280"
      ]
     },
     "execution_count": 11,
     "metadata": {},
     "output_type": "execute_result"
    }
   ],
   "source": [
    "height_test"
   ]
  },
  {
   "cell_type": "code",
   "execution_count": 12,
   "metadata": {},
   "outputs": [],
   "source": [
    "relations_test = list(dict.fromkeys(relations_test))\n",
    "objects_test = list(dict.fromkeys(objects_test))"
   ]
  },
  {
   "cell_type": "code",
   "execution_count": 13,
   "metadata": {},
   "outputs": [
    {
     "data": {
      "text/plain": [
       "1536"
      ]
     },
     "execution_count": 13,
     "metadata": {},
     "output_type": "execute_result"
    }
   ],
   "source": [
    "len(objects_test)"
   ]
  },
  {
   "cell_type": "code",
   "execution_count": 14,
   "metadata": {},
   "outputs": [
    {
     "data": {
      "text/plain": [
       "295"
      ]
     },
     "execution_count": 14,
     "metadata": {},
     "output_type": "execute_result"
    }
   ],
   "source": [
    "len(relations_test)"
   ]
  },
  {
   "cell_type": "code",
   "execution_count": 15,
   "metadata": {},
   "outputs": [],
   "source": [
    "import torch\n",
    "import torch.nn as nn\n",
    "import torch.optim as optim\n",
    "from torch.utils.data import DataLoader\n",
    "from SG_VAE.word_embeddings import WordAE, WordDataset"
   ]
  },
  {
   "cell_type": "code",
   "execution_count": 16,
   "metadata": {},
   "outputs": [],
   "source": [
    "losses = []\n",
    "epochs = 100\n",
    "batch_size = 256\n",
    "dataset = WordDataset(objects)\n",
    "loader = DataLoader(dataset, batch_size=batch_size, shuffle=True)\n",
    "loss_function = nn.CrossEntropyLoss()\n",
    "model = WordAE(objects, 100, 64, 3000)\n",
    "optimizer = optim.Adam(model.parameters(), lr=0.001)"
   ]
  },
  {
   "cell_type": "code",
   "execution_count": 18,
   "metadata": {},
   "outputs": [
    {
     "name": "stdout",
     "output_type": "stream",
     "text": [
      "epoch 0,  loss: 53.518977642059326\n",
      "epoch 1,  loss: 49.85872459411621\n",
      "epoch 2,  loss: 42.13667821884155\n",
      "epoch 3,  loss: 20.809243083000183\n",
      "epoch 4,  loss: 1.3448963984847069\n",
      "epoch 5,  loss: 0.11358659295365214\n",
      "epoch 6,  loss: 0.008998108853120357\n",
      "epoch 7,  loss: 0.014176919037709013\n",
      "epoch 8,  loss: 0.0027763988182414323\n",
      "epoch 9,  loss: 0.006829701931565069\n",
      "epoch 10,  loss: 0.0010103382519446313\n",
      "epoch 11,  loss: 0.000741654570447281\n",
      "epoch 12,  loss: 0.000730853462300729\n",
      "epoch 13,  loss: 0.0021812283448525704\n",
      "epoch 14,  loss: 0.0004501321200223174\n",
      "epoch 15,  loss: 0.0004080553808307741\n",
      "epoch 16,  loss: 0.00036777979403268546\n",
      "epoch 17,  loss: 0.0003398552871658467\n",
      "epoch 18,  loss: 0.00032298134465236217\n",
      "epoch 19,  loss: 0.00030406081350520253\n",
      "epoch 20,  loss: 0.00028772813675459474\n",
      "epoch 21,  loss: 0.0002686596635612659\n",
      "epoch 22,  loss: 0.00026044814512715675\n",
      "epoch 23,  loss: 0.0002472309715813026\n",
      "epoch 24,  loss: 0.0002354961834498681\n",
      "epoch 25,  loss: 0.00022587091007153504\n",
      "epoch 26,  loss: 0.00021847525385965127\n",
      "epoch 27,  loss: 0.0002094537667289842\n",
      "epoch 28,  loss: 0.00019998349307570606\n",
      "epoch 29,  loss: 0.00019373015311430208\n",
      "epoch 30,  loss: 0.00018586742226034403\n",
      "epoch 31,  loss: 0.00017774900334188715\n",
      "epoch 32,  loss: 0.000174467017131974\n",
      "epoch 33,  loss: 0.00016719345512683503\n",
      "epoch 34,  loss: 0.00016163235341082327\n",
      "epoch 35,  loss: 0.0001562270954309497\n",
      "epoch 36,  loss: 0.00015049445210024714\n",
      "epoch 37,  loss: 0.00014698258019052446\n",
      "epoch 38,  loss: 0.00014258115697884932\n",
      "epoch 39,  loss: 0.00013864059656043537\n",
      "epoch 40,  loss: 0.00013436763947538566\n",
      "epoch 41,  loss: 0.00013302651859703474\n",
      "epoch 42,  loss: 0.00012861774121120106\n",
      "epoch 43,  loss: 0.00012524484191089869\n",
      "epoch 44,  loss: 0.00012110357238270808\n",
      "epoch 45,  loss: 0.00011747297867259476\n",
      "epoch 46,  loss: 0.00011499776337586809\n",
      "epoch 47,  loss: 0.00011136577450088225\n",
      "epoch 48,  loss: 0.00011065635499107884\n",
      "epoch 49,  loss: 0.00010671517702576239\n",
      "epoch 50,  loss: 0.00010496709910512436\n",
      "epoch 51,  loss: 0.00010174436556553701\n",
      "epoch 52,  loss: 9.934241370501695e-05\n",
      "epoch 53,  loss: 9.732631042425055e-05\n",
      "epoch 54,  loss: 9.56989770202199e-05\n",
      "epoch 55,  loss: 9.35379011934856e-05\n",
      "epoch 56,  loss: 9.165612300421344e-05\n",
      "epoch 57,  loss: 8.942010026657954e-05\n",
      "epoch 58,  loss: 8.833629544824362e-05\n",
      "epoch 59,  loss: 8.599245575169334e-05\n",
      "epoch 60,  loss: 8.361307573068189e-05\n",
      "epoch 61,  loss: 8.205860194721026e-05\n",
      "epoch 62,  loss: 8.15421944935224e-05\n",
      "epoch 63,  loss: 7.980990994838066e-05\n",
      "epoch 64,  loss: 7.811491559550632e-05\n",
      "epoch 65,  loss: 7.690621350775473e-05\n",
      "epoch 66,  loss: 7.58907317504054e-05\n",
      "epoch 67,  loss: 7.37027312425198e-05\n",
      "epoch 68,  loss: 7.286355776159326e-05\n",
      "epoch 69,  loss: 7.160340283007827e-05\n",
      "epoch 70,  loss: 6.990074416535208e-05\n",
      "epoch 71,  loss: 6.911913715157425e-05\n",
      "epoch 72,  loss: 6.756297079846263e-05\n",
      "epoch 73,  loss: 6.674877022305736e-05\n",
      "epoch 74,  loss: 6.537078570545418e-05\n",
      "epoch 75,  loss: 6.484175628429512e-05\n",
      "epoch 76,  loss: 6.351762658596272e-05\n",
      "epoch 77,  loss: 6.260969075810863e-05\n",
      "epoch 78,  loss: 6.144618691905634e-05\n",
      "epoch 79,  loss: 6.036760578354006e-05\n",
      "epoch 80,  loss: 5.905401803829591e-05\n",
      "epoch 81,  loss: 5.803756585009978e-05\n",
      "epoch 82,  loss: 5.81751328354585e-05\n",
      "epoch 83,  loss: 5.712415895686718e-05\n",
      "epoch 84,  loss: 5.606851846096106e-05\n",
      "epoch 85,  loss: 5.518930493053631e-05\n",
      "epoch 86,  loss: 5.457318320623017e-05\n",
      "epoch 87,  loss: 5.368865186028415e-05\n",
      "epoch 88,  loss: 5.263696448309929e-05\n",
      "epoch 89,  loss: 5.19297864229884e-05\n",
      "epoch 90,  loss: 5.1247440751467366e-05\n",
      "epoch 91,  loss: 5.036704351368826e-05\n",
      "epoch 92,  loss: 4.971378803020343e-05\n",
      "epoch 93,  loss: 4.87859761051368e-05\n",
      "epoch 94,  loss: 4.8855131353775505e-05\n",
      "epoch 95,  loss: 4.757436136060278e-05\n",
      "epoch 96,  loss: 4.734132562589366e-05\n",
      "epoch 97,  loss: 4.665437427320285e-05\n",
      "epoch 98,  loss: 4.626518648365163e-05\n",
      "epoch 99,  loss: 4.539594965535798e-05\n"
     ]
    }
   ],
   "source": [
    "for epoch in range(epochs):\n",
    "    total_loss = 0\n",
    "    for batch_idx, sample in enumerate(loader):\n",
    "        word_idxs = torch.tensor([model.encoder.word_to_ix[w] for w in sample], dtype=torch.long)\n",
    "        model.zero_grad()\n",
    "        pre_softmax = model(word_idxs)\n",
    "        loss = loss_function(pre_softmax, word_idxs)\n",
    "        loss.backward()\n",
    "        optimizer.step()\n",
    "        total_loss += loss.item()\n",
    "    losses.append(total_loss)\n",
    "    print('epoch {},  loss: {}'.format(epoch, total_loss))"
   ]
  },
  {
   "cell_type": "code",
   "execution_count": 29,
   "metadata": {},
   "outputs": [
    {
     "name": "stdout",
     "output_type": "stream",
     "text": [
      "Accuracy of the network on the 10000 test images: 99 %\n"
     ]
    }
   ],
   "source": [
    "model.eval()\n",
    "correct = 0\n",
    "total = 0\n",
    "objects_test.remove('pokemon')\n",
    "test_dataset = WordDataset(objects_test)\n",
    "test_loader = DataLoader(test_dataset, batch_size=batch_size, shuffle=False)\n",
    "for sample in test_loader:\n",
    "    word_idxs = torch.tensor([model.encoder.word_to_ix[w] for w in sample], dtype=torch.long)\n",
    "    outputs = model(word_idxs)\n",
    "    _, predicted = torch.max(outputs.data, 1)\n",
    "    total += batch_size\n",
    "    correct += (predicted == word_idxs).sum().item()\n",
    "print('Accuracy of the network on the 10000 test images: %d %%' % (100 * correct / total))"
   ]
  },
  {
   "cell_type": "code",
   "execution_count": null,
   "metadata": {},
   "outputs": [],
   "source": []
  }
 ],
 "metadata": {
  "kernelspec": {
   "display_name": "GNN",
   "language": "python",
   "name": "gnn"
  },
  "language_info": {
   "codemirror_mode": {
    "name": "ipython",
    "version": 3
   },
   "file_extension": ".py",
   "mimetype": "text/x-python",
   "name": "python",
   "nbconvert_exporter": "python",
   "pygments_lexer": "ipython3",
   "version": "3.6.9"
  }
 },
 "nbformat": 4,
 "nbformat_minor": 4
}
